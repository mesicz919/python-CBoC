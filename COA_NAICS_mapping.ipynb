{
 "cells": [
  {
   "cell_type": "code",
   "execution_count": 1,
   "id": "b9a1ca06",
   "metadata": {},
   "outputs": [
    {
     "name": "stderr",
     "output_type": "stream",
     "text": [
      "Got stderr: Apr 20, 2023 10:00:27 AM org.apache.pdfbox.pdmodel.graphics.color.PDICCBased ensureDisplayProfile\n",
      "WARNING: ICC profile is Perceptual, ignoring, treating as Display class\n",
      "Apr 20, 2023 10:00:28 AM org.apache.pdfbox.pdmodel.graphics.color.PDICCBased ensureDisplayProfile\n",
      "WARNING: ICC profile is Perceptual, ignoring, treating as Display class\n",
      "\n",
      "Got stderr: Apr 20, 2023 10:00:28 AM org.apache.pdfbox.pdmodel.graphics.color.PDICCBased ensureDisplayProfile\n",
      "WARNING: ICC profile is Perceptual, ignoring, treating as Display class\n",
      "\n",
      "Got stderr: Apr 20, 2023 10:00:29 AM org.apache.pdfbox.pdmodel.graphics.color.PDICCBased ensureDisplayProfile\n",
      "WARNING: ICC profile is Perceptual, ignoring, treating as Display class\n",
      "Apr 20, 2023 10:00:30 AM org.apache.pdfbox.pdmodel.graphics.color.PDICCBased ensureDisplayProfile\n",
      "WARNING: ICC profile is Perceptual, ignoring, treating as Display class\n",
      "Apr 20, 2023 10:00:31 AM org.apache.pdfbox.pdmodel.graphics.color.PDICCBased ensureDisplayProfile\n",
      "WARNING: ICC profile is Perceptual, ignoring, treating as Display class\n",
      "Apr 20, 2023 10:00:31 AM org.apache.pdfbox.pdmodel.graphics.color.PDICCBased ensureDisplayProfile\n",
      "WARNING: ICC profile is Perceptual, ignoring, treating as Display class\n",
      "Apr 20, 2023 10:00:32 AM org.apache.pdfbox.pdmodel.graphics.color.PDICCBased ensureDisplayProfile\n",
      "WARNING: ICC profile is Perceptual, ignoring, treating as Display class\n",
      "Apr 20, 2023 10:00:32 AM org.apache.pdfbox.pdmodel.graphics.color.PDICCBased ensureDisplayProfile\n",
      "WARNING: ICC profile is Perceptual, ignoring, treating as Display class\n",
      "Apr 20, 2023 10:00:33 AM org.apache.pdfbox.pdmodel.graphics.color.PDICCBased ensureDisplayProfile\n",
      "WARNING: ICC profile is Perceptual, ignoring, treating as Display class\n",
      "\n"
     ]
    }
   ],
   "source": [
    "import pandas as pd\n",
    "from tabula import read_pdf\n",
    "\n",
    "# Specify the page ranges and table areas you want to extract\n",
    "small_table_range = '61'\n",
    "large_table_range = '62-71'\n",
    "large_table_area = [108, 28, 788, 570]  # [top, left, bottom, right]\n",
    "third_table_range = '72-77'\n",
    "\n",
    "# Read the PDF file and extract the tables into DataFrames\n",
    "small_table_df = read_pdf(\"COA_to_NAICS.pdf\", pages=small_table_range)[0]\n",
    "large_table_df = pd.concat(read_pdf(\"COA_to_NAICS.pdf\", pages=large_table_range, area=large_table_area))\n",
    "third_table_df = pd.concat(read_pdf(\"COA_to_NAICS.pdf\", pages=third_table_range))\n",
    "\n",
    "# Create a new Excel file and write the DataFrames to separate sheets\n",
    "with pd.ExcelWriter(\"output.xlsx\") as writer:\n",
    "    small_table_df.to_excel(writer, sheet_name='Small Table', index=False)\n",
    "    large_table_df.to_excel(writer, sheet_name='Large Table', index=False)\n",
    "    third_table_df.to_excel(writer, sheet_name='Third Table', index=False)"
   ]
  },
  {
   "cell_type": "code",
   "execution_count": null,
   "id": "f0f3d4c7",
   "metadata": {},
   "outputs": [],
   "source": []
  }
 ],
 "metadata": {
  "kernelspec": {
   "display_name": "Python 3 (ipykernel)",
   "language": "python",
   "name": "python3"
  },
  "language_info": {
   "codemirror_mode": {
    "name": "ipython",
    "version": 3
   },
   "file_extension": ".py",
   "mimetype": "text/x-python",
   "name": "python",
   "nbconvert_exporter": "python",
   "pygments_lexer": "ipython3",
   "version": "3.10.11"
  }
 },
 "nbformat": 4,
 "nbformat_minor": 5
}
